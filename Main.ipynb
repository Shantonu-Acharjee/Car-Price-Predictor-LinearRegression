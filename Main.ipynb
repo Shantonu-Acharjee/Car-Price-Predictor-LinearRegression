{
 "cells": [
  {
   "cell_type": "code",
   "execution_count": null,
   "metadata": {},
   "outputs": [],
   "source": []
  }
 ],
 "metadata": {
  "kernelspec": {
   "display_name": "Python 3.8.8 ('base')",
   "language": "python",
   "name": "python3"
  },
  "language_info": {
   "name": "python",
   "version": "3.8.8"
  },
  "orig_nbformat": 4,
  "vscode": {
   "interpreter": {
    "hash": "b37ae33f615078f31cba182e9675203757b0a765c4319b86d4f9441642868550"
   }
  }
 },
 "nbformat": 4,
 "nbformat_minor": 2
}
